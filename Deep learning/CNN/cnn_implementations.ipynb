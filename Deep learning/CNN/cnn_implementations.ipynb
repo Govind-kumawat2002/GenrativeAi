{
 "cells": [
  {
   "cell_type": "code",
   "execution_count": null,
   "metadata": {},
   "outputs": [],
   "source": [
    "import tensorflow as tf  # deeep learning framework\n",
    "from tensorflow import keras # high level api implementation the code of tensorflow\n",
    "from keras.datasets import fashion_mnist # dataset\n",
    "from keras.models import Sequential  # model\n",
    "from keras.layers import Conv2D, Dropout, Flatten, Dense  ,MaxPooling2D # layers of model ,Dropout to reduce overfitting ,Flatten to convert 2d array to 1d array ,Dense to add fully connected layers,Conv2D to add convolutional layers\n",
    "from keras import backend as K # backend"
   ]
  },
  {
   "cell_type": "code",
   "execution_count": null,
   "metadata": {},
   "outputs": [],
   "source": [
    "num_classes = 10\n",
    "epochs = 24\n",
    "img_rows, img_cols = 28, 28\n",
    "batch_size = 64\n",
    "# loading the data set\n",
    "(x_train, y_train), (x_test, y_test) = fashion_mnist.load_data()"
   ]
  },
  {
   "cell_type": "code",
   "execution_count": null,
   "metadata": {},
   "outputs": [],
   "source": [
    "x_test.shape,y_test.shape,x_train.shape,y_train.shape"
   ]
  },
  {
   "cell_type": "code",
   "execution_count": null,
   "metadata": {},
   "outputs": [],
   "source": [
    "x_train = x_train.reshape(x_train.shape[0], img_rows, img_cols, 1)\n",
    "x_test = x_test.reshape(x_test.shape[0], img_rows, img_cols, 1)\n",
    "input_shape = (img_rows, img_cols, 1)"
   ]
  },
  {
   "cell_type": "code",
   "execution_count": null,
   "metadata": {},
   "outputs": [],
   "source": [
    "input_shape"
   ]
  },
  {
   "cell_type": "code",
   "execution_count": null,
   "metadata": {},
   "outputs": [],
   "source": [
    "x_train.shape,x_test.shape,input_shape"
   ]
  },
  {
   "cell_type": "code",
   "execution_count": null,
   "metadata": {},
   "outputs": [],
   "source": [
    "# feature scaling technique\n",
    "\n",
    "x_train = x_train.astype('float32')\n",
    "x_test = x_test.astype('float32')\n",
    "x_train /= 255\n",
    "x_test /= 255\n",
    "print('x_train shape:', x_train.shape)\n",
    "print(x_train.shape[0], 'train samples')"
   ]
  },
  {
   "cell_type": "code",
   "execution_count": null,
   "metadata": {},
   "outputs": [],
   "source": [
    "# converting class vectors to binary class matrices ,one hot encoding\n",
    "y_train = keras.utils.to_categorical(y_train, num_classes)\n",
    "y_test = keras.utils.to_categorical(y_test, num_classes)"
   ]
  },
  {
   "cell_type": "code",
   "execution_count": null,
   "metadata": {},
   "outputs": [],
   "source": [
    "y_train[0:2]"
   ]
  },
  {
   "cell_type": "markdown",
   "metadata": {},
   "source": [
    "Cnn code "
   ]
  },
  {
   "cell_type": "code",
   "execution_count": null,
   "metadata": {},
   "outputs": [],
   "source": [
    "model=Sequential()"
   ]
  },
  {
   "cell_type": "code",
   "execution_count": null,
   "metadata": {},
   "outputs": [],
   "source": [
    "# create a cnn to classify the images\n",
    "model.add(Conv2D(32, kernel_size=(3, 3), # feature dectare size \n",
    "                 activation='relu',    # feature dectare\n",
    "                 input_shape=input_shape)) # 28 * 28 * 3 for color image \n",
    "model.add(MaxPooling2D(pool_size=(2, 2)))  # polling llayer in 2 *2 \n",
    "\n",
    "model.add(Conv2D(32,kernel_size=(2,2)))\n",
    "\n",
    "model.add(Conv2D(32,kernel_size=(3,3),activation='relu'))\n",
    "\n",
    "model.add(MaxPooling2D(pool_size=(2,2)))\n",
    "\n",
    "model.add(Flatten())  # convert into n * n into in one d \n",
    "\n",
    "model.add(Dense(128, activation='relu'))  # fully connected layers \n",
    "\n",
    "model.add(Dense(64,activation='relu'))\n",
    "\n",
    "model.add(Dense(num_classes ,activation='softmax'))  # num_claass in 10 "
   ]
  },
  {
   "cell_type": "code",
   "execution_count": null,
   "metadata": {},
   "outputs": [],
   "source": [
    "# define complie to minimize categorical loss, use ada delta optimized , and optimize to maximizing accuracy \n",
    "model.compile(loss=keras.losses.categorical_crossentropy, # its is funtion  \n",
    "              optimizer= keras.optimizers.Adam(),metrics = ['accuracy'])  # adam optimizer "
   ]
  },
  {
   "cell_type": "markdown",
   "metadata": {},
   "source": []
  },
  {
   "cell_type": "code",
   "execution_count": null,
   "metadata": {},
   "outputs": [],
   "source": [
    "hist=model.fit(x_train,y_train,batch_size=batch_size ,epochs=epochs,verbose=1,validation_data=(x_test,y_test))"
   ]
  },
  {
   "cell_type": "code",
   "execution_count": null,
   "metadata": {},
   "outputs": [],
   "source": [
    "hist.history"
   ]
  },
  {
   "cell_type": "code",
   "execution_count": null,
   "metadata": {},
   "outputs": [],
   "source": [
    "# Evalute the model wityh the test data to get score on real data \n",
    "score =model.evaluate(x_test,y_test,verbose=0)"
   ]
  },
  {
   "cell_type": "code",
   "execution_count": null,
   "metadata": {},
   "outputs": [],
   "source": [
    "print(\"test loss\",score[0])"
   ]
  },
  {
   "cell_type": "code",
   "execution_count": null,
   "metadata": {},
   "outputs": [],
   "source": [
    "print(\"test accuracy \",score[1])"
   ]
  },
  {
   "cell_type": "code",
   "execution_count": null,
   "metadata": {},
   "outputs": [],
   "source": [
    "import numpy  as np \n",
    "import matplotlib.pyplot as plt \n",
    "%matplotlib inline\n",
    "epoch_list = list(range(1 , len(hist.history['accuracy'])+1))\n",
    "plt.plot(epoch_list, hist.history['accuracy'],epoch_list ,hist.history['val_accuracy'])\n",
    "plt.legend(('Training Accuracy','Validation Accuracy '))\n",
    "plt.show()"
   ]
  },
  {
   "cell_type": "code",
   "execution_count": null,
   "metadata": {},
   "outputs": [],
   "source": [
    "model.summary() # SUMRIZE THE MODEL \n",
    "# if we are choose conv3d size is 28 * 28 so it is given the 26*26\n",
    "#  max_pooling2d_2 is 1/2 od con\n",
    "# \n",
    "#  "
   ]
  },
  {
   "cell_type": "code",
   "execution_count": null,
   "metadata": {},
   "outputs": [],
   "source": []
  }
 ],
 "metadata": {
  "kernelspec": {
   "display_name": "Python 3",
   "language": "python",
   "name": "python3"
  },
  "language_info": {
   "codemirror_mode": {
    "name": "ipython",
    "version": 3
   },
   "file_extension": ".py",
   "mimetype": "text/x-python",
   "name": "python",
   "nbconvert_exporter": "python",
   "pygments_lexer": "ipython3",
   "version": "3.11.5"
  }
 },
 "nbformat": 4,
 "nbformat_minor": 2
}
