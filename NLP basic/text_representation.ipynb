{
 "cells": [
  {
   "cell_type": "markdown",
   "metadata": {},
   "source": [
    "### BOW >>>>>>>>>>>>>>> Bag of word  "
   ]
  },
  {
   "cell_type": "code",
   "execution_count": 1,
   "metadata": {},
   "outputs": [],
   "source": [
    "import pandas as pd "
   ]
  },
  {
   "cell_type": "code",
   "execution_count": null,
   "metadata": {},
   "outputs": [],
   "source": [
    "text = {\"text\":[\"People watch Aiyug\",\"Aiyug watch Aiyug\",\"People write comment \",\"Aiyug write comment\"],\"Output\":[1,1,0,0] }\n",
    "data =pd.DataFrame(text)\n",
    "data\n"
   ]
  },
  {
   "cell_type": "code",
   "execution_count": 35,
   "metadata": {},
   "outputs": [],
   "source": [
    "from sklearn.feature_extraction.text import CountVectorizer\n",
    "cv  = CountVectorizer(lowercase=True,stop_words=\"english\",binary=True)"
   ]
  },
  {
   "cell_type": "code",
   "execution_count": 36,
   "metadata": {},
   "outputs": [],
   "source": [
    "bow =cv.fit_transform(data['text'])"
   ]
  },
  {
   "cell_type": "code",
   "execution_count": null,
   "metadata": {},
   "outputs": [],
   "source": [
    "cv.vocabulary_"
   ]
  },
  {
   "cell_type": "code",
   "execution_count": null,
   "metadata": {},
   "outputs": [],
   "source": [
    "print(bow[0].toarray())\n",
    "print(bow[1].toarray())\n",
    "print(bow[2].toarray())\n",
    "print(bow[3].toarray())\n"
   ]
  },
  {
   "cell_type": "code",
   "execution_count": null,
   "metadata": {},
   "outputs": [],
   "source": [
    "cv.transform([\"Comment is good student and Comment is student to jaipur  \"]).toarray()"
   ]
  },
  {
   "cell_type": "code",
   "execution_count": null,
   "metadata": {},
   "outputs": [],
   "source": []
  },
  {
   "cell_type": "markdown",
   "metadata": {},
   "source": [
    "### N grams "
   ]
  },
  {
   "cell_type": "code",
   "execution_count": null,
   "metadata": {},
   "outputs": [],
   "source": [
    "from nltk.util import ngrams\n",
    "from nltk.tokenize import word_tokenize\n",
    "\n",
    "text = \"I love natural language processing\"\n",
    "tokens = word_tokenize(text)  # Tokenize into words\n",
    "\n",
    "n = 2  # Set the N for N-grams (bigrams in this case)\n",
    "bigrams = list(ngrams(tokens, n))\n",
    "\n",
    "print(bigrams)\n"
   ]
  },
  {
   "cell_type": "markdown",
   "metadata": {},
   "source": [
    "### Td-Idf"
   ]
  },
  {
   "cell_type": "code",
   "execution_count": null,
   "metadata": {},
   "outputs": [],
   "source": [
    "from sklearn.feature_extraction.text import TfidfVectorizer\n",
    "\n",
    "documents = [\n",
    "    \"I love natural language processing\",\n",
    "    \"Deep learning is great for NLP\",\n",
    "    \"TF-IDF is useful in text mining\"\n",
    "]\n",
    "\n",
    "vectorizer = TfidfVectorizer()\n",
    "tfidf_matrix = vectorizer.fit_transform(documents)\n",
    "# print(tfidf_matrix)\n",
    "\n",
    "# Print TF-IDF scores\n",
    "feature_names = vectorizer.get_feature_names_out()   ### get \n",
    "# print(feature_names)\n",
    "for doc_idx, doc in enumerate(tfidf_matrix.toarray()):\n",
    "    print(f\"Document {doc_idx+1}:\")\n",
    "    for word_idx, score in enumerate(doc):\n",
    "        if score > 0:\n",
    "            print(f\"  {feature_names[word_idx]}: {score:.4f}\")\n",
    "# "
   ]
  },
  {
   "cell_type": "markdown",
   "metadata": {},
   "source": [
    "### Word2Vec"
   ]
  },
  {
   "cell_type": "code",
   "execution_count": null,
   "metadata": {},
   "outputs": [],
   "source": [
    "!pip install gensim"
   ]
  },
  {
   "cell_type": "code",
   "execution_count": null,
   "metadata": {},
   "outputs": [],
   "source": [
    "# from gensim.models import Word2Vec\n",
    "# from gensim.utils import simple_preprocess\n",
    "# # Sample sentences\n",
    "# sentences = [\n",
    "#     \"Natural language processing is fun\",\n",
    "#     \"Deep learning improves NLP\",\n",
    "#     \"Word embeddings help understand meaning\"\n",
    "# ]\n",
    "# tokenized_sentences = [simple_preprocess(sentence) for sentence in sentences]\n",
    "# # Train Word2Vec model\n",
    "# model = Word2Vec(sentences=tokenized_sentences, vector_size=50, window=5, min_count=1, workers=4)"
   ]
  },
  {
   "cell_type": "code",
   "execution_count": null,
   "metadata": {},
   "outputs": [],
   "source": [
    "# Get similar words\n",
    "# print(model.wv.most_similar(\"nlp\"))\n",
    "import gensim\n",
    "from gensim.models import Word2Vec,KeyedVectors\n",
    "from gensim.utils import simple_preprocess\n",
    "# Sample sentences\n",
    "sentences = [\n",
    "    \"Natural language processing is fun\",\n",
    "    \"Deep learning improves NLP\",\n",
    "    \"Word embeddings help understand meaning\"\n",
    "]\n",
    "tokenized_sentences = [simple_preprocess(sentence) for sentence in sentences]\n",
    "# Train Word2Vec model\n",
    "model = Word2Vec(sentences=tokenized_sentences, vector_size=50, window=5, min_count=1, workers=4)"
   ]
  }
 ],
 "metadata": {
  "kernelspec": {
   "display_name": "Python 3",
   "language": "python",
   "name": "python3"
  },
  "language_info": {
   "codemirror_mode": {
    "name": "ipython",
    "version": 3
   },
   "file_extension": ".py",
   "mimetype": "text/x-python",
   "name": "python",
   "nbconvert_exporter": "python",
   "pygments_lexer": "ipython3",
   "version": "3.11.5"
  }
 },
 "nbformat": 4,
 "nbformat_minor": 2
}
